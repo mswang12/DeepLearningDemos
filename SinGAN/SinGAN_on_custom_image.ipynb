{
  "nbformat": 4,
  "nbformat_minor": 0,
  "metadata": {
    "colab": {
      "name": "SinGANOfficialImplementation.ipynb",
      "provenance": [],
      "private_outputs": true,
      "authorship_tag": "ABX9TyOqSL8ngNwZVEvzOBFhFwfA",
      "include_colab_link": true
    },
    "kernelspec": {
      "name": "python3",
      "display_name": "Python 3"
    },
    "accelerator": "GPU"
  },
  "cells": [
    {
      "cell_type": "markdown",
      "metadata": {
        "id": "view-in-github",
        "colab_type": "text"
      },
      "source": [
        "<a href=\"https://colab.research.google.com/github/wileyw/DeepLearningDemos/blob/master/SinGAN/SinGAN_on_custom_image.ipynb\" target=\"_parent\"><img src=\"https://colab.research.google.com/assets/colab-badge.svg\" alt=\"Open In Colab\"/></a>"
      ]
    },
    {
      "cell_type": "markdown",
      "metadata": {
        "id": "_teh4A4skGRT",
        "colab_type": "text"
      },
      "source": [
        "# SinGAN\n",
        "\n",
        "[Official SinGAN Repository](https://github.com/tamarott/SinGAN)\n",
        "\n",
        "In this notebook, we will implement and create a SinGAN homework assignment for other's to learn how to implement SinGAN as well."
      ]
    },
    {
      "cell_type": "code",
      "metadata": {
        "id": "UemrsEXyvxqQ",
        "colab_type": "code",
        "colab": {}
      },
      "source": [
        "def upload_files():\n",
        "  from google.colab import files\n",
        "  uploaded = files.upload()\n",
        "  for k, v in uploaded.items():\n",
        "    open(k, 'wb').write(v)\n",
        "  return list(uploaded.keys())\n",
        "upload_files()"
      ],
      "execution_count": 0,
      "outputs": []
    },
    {
      "cell_type": "code",
      "metadata": {
        "id": "TF-QL9B0z7sl",
        "colab_type": "code",
        "colab": {}
      },
      "source": [
        "!git clone https://github.com/tamarott/SinGAN.git"
      ],
      "execution_count": 0,
      "outputs": []
    },
    {
      "cell_type": "code",
      "metadata": {
        "id": "vZLLI4c7sJjv",
        "colab_type": "code",
        "colab": {}
      },
      "source": [
        "!ls /content/SinGAN/Input/Images/\n",
        "!cp carrots_whole.4BVRRZ6FNXYQN.png /content/SinGAN/Input/Images/custom.png"
      ],
      "execution_count": 0,
      "outputs": []
    },
    {
      "cell_type": "code",
      "metadata": {
        "id": "uKVDKOFetVEW",
        "colab_type": "code",
        "colab": {}
      },
      "source": [
        "%cd /content/SinGAN/Input/Images/\n",
        "!ls\n",
        "#import cv2\n",
        "#custom = cv2.imread('custom.jpg')\n",
        "#cv2.imwrite('custom.png', custom)"
      ],
      "execution_count": 0,
      "outputs": []
    },
    {
      "cell_type": "code",
      "metadata": {
        "id": "ul_FoSC40EjR",
        "colab_type": "code",
        "colab": {}
      },
      "source": [
        "%cd /content/SinGAN\n",
        "!ls\n",
        "!pwd\n",
        "!python3 main_train.py --input_name custom.png"
      ],
      "execution_count": 0,
      "outputs": []
    },
    {
      "cell_type": "code",
      "metadata": {
        "id": "ktEI7QEk1Wmf",
        "colab_type": "code",
        "colab": {}
      },
      "source": [
        "!python3 random_samples.py --input_name custom.png --mode random_samples_arbitrary_sizes --scale_h 1 --scale_v 1"
      ],
      "execution_count": 0,
      "outputs": []
    },
    {
      "cell_type": "code",
      "metadata": {
        "id": "VBErCpu1LKd8",
        "colab_type": "code",
        "colab": {}
      },
      "source": [
        "!ls\n",
        "!ls -l Output/RandomSamples/custom\n",
        "!ls -l Output/RandomSamples/custom/gen_start_scale=0"
      ],
      "execution_count": 0,
      "outputs": []
    },
    {
      "cell_type": "code",
      "metadata": {
        "id": "qTHAHNbnL5W6",
        "colab_type": "code",
        "colab": {}
      },
      "source": [
        "import cv2\n",
        "import glob\n",
        "from google.colab.patches import cv2_imshow\n",
        "\n",
        "print('original image')\n",
        "original_img_path = 'Input/Images/custom.png'\n",
        "img = cv2.imread(original_img_path)\n",
        "cv2_imshow(img)\n",
        "\n",
        "print('random sample')\n",
        "img_paths = glob.glob('Output/RandomSamples/custom/gen_start_scale=0/*.png')\n",
        "img = cv2.imread(img_paths[0])\n",
        "cv2_imshow(img)"
      ],
      "execution_count": 0,
      "outputs": []
    },
    {
      "cell_type": "code",
      "metadata": {
        "id": "6jpfpY2_kFeX",
        "colab_type": "code",
        "colab": {}
      },
      "source": [
        "import torch\n",
        "\n",
        "print('Implement SinGAN here')\n",
        "print(torch)"
      ],
      "execution_count": 0,
      "outputs": []
    }
  ]
}