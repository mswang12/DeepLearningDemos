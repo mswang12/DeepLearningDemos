{
  "nbformat": 4,
  "nbformat_minor": 0,
  "metadata": {
    "colab": {
      "name": "SinGANOfficialImplementation.ipynb",
      "provenance": [],
      "private_outputs": true,
      "authorship_tag": "ABX9TyNZRNbu3EqqmJBseyh3Sv67",
      "include_colab_link": true
    },
    "kernelspec": {
      "name": "python3",
      "display_name": "Python 3"
    },
    "accelerator": "GPU"
  },
  "cells": [
    {
      "cell_type": "markdown",
      "metadata": {
        "id": "view-in-github",
        "colab_type": "text"
      },
      "source": [
        "<a href=\"https://colab.research.google.com/github/wileyw/DeepLearningDemos/blob/master/SinGAN/SinGAN_on_custom_image.ipynb\" target=\"_parent\"><img src=\"https://colab.research.google.com/assets/colab-badge.svg\" alt=\"Open In Colab\"/></a>"
      ]
    },
    {
      "cell_type": "markdown",
      "metadata": {
        "id": "_teh4A4skGRT",
        "colab_type": "text"
      },
      "source": [
        "# SinGAN\n",
        "\n",
        "[Official SinGAN Repository](https://github.com/tamarott/SinGAN)\n",
        "\n",
        "In this notebook, we will implement and create a SinGAN homework assignment for other's to learn how to implement SinGAN as well."
      ]
    },
    {
      "cell_type": "code",
      "metadata": {
        "id": "TF-QL9B0z7sl",
        "colab_type": "code",
        "colab": {}
      },
      "source": [
        "!git clone https://github.com/tamarott/SinGAN.git"
      ],
      "execution_count": 0,
      "outputs": []
    },
    {
      "cell_type": "code",
      "metadata": {
        "id": "vZLLI4c7sJjv",
        "colab_type": "code",
        "colab": {}
      },
      "source": [
        "!ls /content/SinGAN/Input/Images/\n",
        "!git clone https://github.com/mswang12/Data.git\n",
        "!cp Data/cats_flickr/16075613156_a8476e514c_w.jpg /content/SinGAN/Input/Images/cat1.jpg"
      ],
      "execution_count": 0,
      "outputs": []
    },
    {
      "cell_type": "code",
      "metadata": {
        "id": "uKVDKOFetVEW",
        "colab_type": "code",
        "colab": {}
      },
      "source": [
        "%cd /content/SinGAN/Input/Images/\n",
        "!ls\n",
        "import cv2\n",
        "cat1 = cv2.imread('cat1.jpg')\n",
        "cv2.imwrite('cat1.png', cat1)"
      ],
      "execution_count": 0,
      "outputs": []
    },
    {
      "cell_type": "code",
      "metadata": {
        "id": "ul_FoSC40EjR",
        "colab_type": "code",
        "colab": {}
      },
      "source": [
        "%cd /content/SinGAN\n",
        "!ls\n",
        "!pwd\n",
        "!python3 main_train.py --input_name cat1.png"
      ],
      "execution_count": 0,
      "outputs": []
    },
    {
      "cell_type": "code",
      "metadata": {
        "id": "ktEI7QEk1Wmf",
        "colab_type": "code",
        "colab": {}
      },
      "source": [
        "!python3 random_samples.py --input_name cat1.png --mode random_samples_arbitrary_sizes --scale_h 1 --scale_v 1"
      ],
      "execution_count": 0,
      "outputs": []
    },
    {
      "cell_type": "code",
      "metadata": {
        "id": "VBErCpu1LKd8",
        "colab_type": "code",
        "colab": {}
      },
      "source": [
        "!ls\n",
        "!ls -l Output/RandomSamples/cat1\n",
        "!ls -l Output/RandomSamples/cat1/gen_start_scale=0"
      ],
      "execution_count": 0,
      "outputs": []
    },
    {
      "cell_type": "code",
      "metadata": {
        "id": "qTHAHNbnL5W6",
        "colab_type": "code",
        "colab": {}
      },
      "source": [
        "import cv2\n",
        "import glob\n",
        "from google.colab.patches import cv2_imshow\n",
        "\n",
        "print('original image')\n",
        "original_img_path = 'Input/Images/cat1.png'\n",
        "img = cv2.imread(original_img_path)\n",
        "cv2_imshow(img)\n",
        "\n",
        "print('random sample')\n",
        "img_paths = glob.glob('Output/RandomSamples/cat1/gen_start_scale=0/*.png')\n",
        "img = cv2.imread(img_paths[0])\n",
        "cv2_imshow(img)"
      ],
      "execution_count": 0,
      "outputs": []
    },
    {
      "cell_type": "code",
      "metadata": {
        "id": "6jpfpY2_kFeX",
        "colab_type": "code",
        "colab": {}
      },
      "source": [
        "import torch\n",
        "\n",
        "print('Implement SinGAN here')\n",
        "print(torch)"
      ],
      "execution_count": 0,
      "outputs": []
    }
  ]
}