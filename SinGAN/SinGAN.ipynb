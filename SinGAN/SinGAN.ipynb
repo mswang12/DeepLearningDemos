{
  "nbformat": 4,
  "nbformat_minor": 0,
  "metadata": {
    "colab": {
      "name": "SinGAN.ipynb",
      "provenance": [],
      "private_outputs": true,
      "authorship_tag": "ABX9TyPbljVApESxKIHpepVtVMWQ",
      "include_colab_link": true
    },
    "kernelspec": {
      "name": "python3",
      "display_name": "Python 3"
    },
    "accelerator": "GPU"
  },
  "cells": [
    {
      "cell_type": "markdown",
      "metadata": {
        "id": "view-in-github",
        "colab_type": "text"
      },
      "source": [
        "<a href=\"https://colab.research.google.com/github/wileyw/DeepLearningDemos/blob/master/SinGAN/SinGAN.ipynb\" target=\"_parent\"><img src=\"https://colab.research.google.com/assets/colab-badge.svg\" alt=\"Open In Colab\"/></a>"
      ]
    },
    {
      "cell_type": "markdown",
      "metadata": {
        "id": "_teh4A4skGRT",
        "colab_type": "text"
      },
      "source": [
        "# SinGAN\n",
        "\n",
        "[Official SinGAN Repository](https://github.com/tamarott/SinGAN)\n",
        "\n",
        "In this notebook, we will implement and create a SinGAN homework assignment for other's to learn how to implement SinGAN as well."
      ]
    },
    {
      "cell_type": "code",
      "metadata": {
        "id": "6jpfpY2_kFeX",
        "colab_type": "code",
        "colab": {}
      },
      "source": [
        "import torch\n",
        "\n",
        "print('Implement SinGAN here')\n",
        "print(torch)"
      ],
      "execution_count": 0,
      "outputs": []
    }
  ]
}