{
  "nbformat": 4,
  "nbformat_minor": 0,
  "metadata": {
    "colab": {
      "name": "SinGAN.ipynb",
      "provenance": [],
      "private_outputs": true,
      "authorship_tag": "ABX9TyOGleRVkkAp9zwMQ/GEtKui",
      "include_colab_link": true
    },
    "kernelspec": {
      "name": "python3",
      "display_name": "Python 3"
    },
    "accelerator": "GPU"
  },
  "cells": [
    {
      "cell_type": "markdown",
      "metadata": {
        "id": "view-in-github",
        "colab_type": "text"
      },
      "source": [
        "<a href=\"https://colab.research.google.com/github/wileyw/DeepLearningDemos/blob/master/SinGAN/SinGAN.ipynb\" target=\"_parent\"><img src=\"https://colab.research.google.com/assets/colab-badge.svg\" alt=\"Open In Colab\"/></a>"
      ]
    },
    {
      "cell_type": "markdown",
      "metadata": {
        "id": "_teh4A4skGRT",
        "colab_type": "text"
      },
      "source": [
        "# SinGAN\n",
        "\n",
        "[Official SinGAN Repository](https://github.com/tamarott/SinGAN)\n",
        "\n",
        "In this notebook, we will implement and create a SinGAN homework assignment for other's to learn how to implement SinGAN as well."
      ]
    },
    {
      "cell_type": "code",
      "metadata": {
        "id": "TF-QL9B0z7sl",
        "colab_type": "code",
        "colab": {}
      },
      "source": [
        "!git clone https://github.com/tamarott/SinGAN.git\n",
        "# Explore Input images here:\n",
        "%cd /content/SinGAN/Input/Images/\n",
        "!ls"
      ],
      "execution_count": 0,
      "outputs": []
    },
    {
      "cell_type": "code",
      "metadata": {
        "id": "qTHAHNbnL5W6",
        "colab_type": "code",
        "colab": {}
      },
      "source": [
        "import cv2\n",
        "import glob\n",
        "from google.colab.patches import cv2_imshow\n",
        "\n",
        "print('original image')\n",
        "original_img_path = '/content/SinGAN/Input/Images/trees3.png'\n",
        "img = cv2.imread(original_img_path)\n",
        "cv2_imshow(img)"
      ],
      "execution_count": 0,
      "outputs": []
    },
    {
      "cell_type": "code",
      "metadata": {
        "id": "6jpfpY2_kFeX",
        "colab_type": "code",
        "colab": {}
      },
      "source": [
        "%cd /content/SinGAN\n",
        "![ -d TrainedModels ] && rm -r TrainedModels\n",
        "import torch\n",
        "import torch.nn as nn\n",
        "import sys\n",
        "import os\n",
        "\n",
        "# Import help functions from SinGAN\n",
        "import config\n",
        "from config import get_arguments\n",
        "from SinGAN.manipulate import *\n",
        "from SinGAN.training import *\n",
        "import SinGAN.functions as functions\n",
        "\n",
        "print('Implement SinGAN here...')\n",
        "del sys.argv[:]\n",
        "sys.argv.append('main_train.py')\n",
        "\n",
        "parser = get_arguments()\n",
        "parser.add_argument('--input_dir', help='input image dir', default='Input/Images')\n",
        "parser.add_argument('--input_name', help='input image name', default='birds.png')\n",
        "parser.add_argument('--mode', help='task to be done', default='train')\n",
        "\n",
        "opt = parser.parse_args()\n",
        "opt = functions.post_config(opt)\n",
        "\n",
        "Gs = []\n",
        "Zs = []\n",
        "reals = []\n",
        "NoiseAmp = []\n",
        "dir2save = functions.generate_dir2save(opt)\n",
        "\n",
        "if os.path.exists(dir2save):\n",
        "  print('trained model already exists: {}'.format(dir2save))\n",
        "else:\n",
        "  try:\n",
        "    os.makedirs(dir2save)\n",
        "  except OSError:\n",
        "    pass\n",
        "  real = functions.read_image(opt)\n",
        "  functions.adjust_scales2image(real, opt)\n",
        "  train(opt, Gs, Zs, reals, NoiseAmp)\n",
        "  SinGAN_generate(Gs, Zs, reals, NoiseAmp, opt)"
      ],
      "execution_count": 0,
      "outputs": []
    }
  ]
}