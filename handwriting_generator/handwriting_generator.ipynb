{
  "nbformat": 4,
  "nbformat_minor": 0,
  "metadata": {
    "colab": {
      "name": "handwriting_generator.ipynb",
      "provenance": [],
      "authorship_tag": "ABX9TyMvlM3eoEs7ByiFOmy2Uel7",
      "include_colab_link": true
    },
    "kernelspec": {
      "name": "python3",
      "display_name": "Python 3"
    }
  },
  "cells": [
    {
      "cell_type": "markdown",
      "metadata": {
        "id": "view-in-github",
        "colab_type": "text"
      },
      "source": [
        "<a href=\"https://colab.research.google.com/github/wileyw/DeepLearningDemos/blob/master/handwriting_generator/handwriting_generator.ipynb\" target=\"_parent\"><img src=\"https://colab.research.google.com/assets/colab-badge.svg\" alt=\"Open In Colab\"/></a>"
      ]
    },
    {
      "cell_type": "markdown",
      "metadata": {
        "id": "-RJdrRMEODP1",
        "colab_type": "text"
      },
      "source": [
        "# Handwriting Generator\n",
        "\n",
        "[Reference Jypyter Notebook](https://nbviewer.jupyter.org/github/greydanus/scribe/blob/master/sample.ipynb)"
      ]
    },
    {
      "cell_type": "code",
      "metadata": {
        "id": "fPEL30NqN_4g",
        "colab_type": "code",
        "colab": {}
      },
      "source": [
        "import numpy as np\n",
        "import numpy.matlib\n",
        "import matplotlib.pyplot as plt\n",
        "import matplotlib.cm as cm\n",
        "%matplotlib inline\n",
        "\n",
        "import math\n",
        "import random\n",
        "import time\n",
        "import os\n",
        "\n",
        "import tensorflow as tf #built with TensorFlow version 1.0"
      ],
      "execution_count": null,
      "outputs": []
    },
    {
      "cell_type": "markdown",
      "metadata": {
        "id": "-HUGzFrhOKFx",
        "colab_type": "text"
      },
      "source": [
        "# Resources\n",
        "- https://github.com/topics/handwriting-synthesis\n",
        "- https://github.com/sjvasquez/handwriting-synthesis\n",
        "- http://www.fki.inf.unibe.ch/databases/iam-on-line-handwriting-database"
      ]
    }
  ]
}