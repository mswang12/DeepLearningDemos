{
  "nbformat": 4,
  "nbformat_minor": 0,
  "metadata": {
    "colab": {
      "name": "handwriting_generator.ipynb",
      "provenance": [],
      "authorship_tag": "ABX9TyMYRi+IS0PA0grrza8Yj3SD",
      "include_colab_link": true
    },
    "kernelspec": {
      "name": "python3",
      "display_name": "Python 3"
    }
  },
  "cells": [
    {
      "cell_type": "markdown",
      "metadata": {
        "id": "view-in-github",
        "colab_type": "text"
      },
      "source": [
        "<a href=\"https://colab.research.google.com/github/wileyw/DeepLearningDemos/blob/master/handwriting_generator/handwriting_generator.ipynb\" target=\"_parent\"><img src=\"https://colab.research.google.com/assets/colab-badge.svg\" alt=\"Open In Colab\"/></a>"
      ]
    },
    {
      "cell_type": "markdown",
      "metadata": {
        "id": "-RJdrRMEODP1",
        "colab_type": "text"
      },
      "source": [
        "# Handwriting Generator"
      ]
    },
    {
      "cell_type": "code",
      "metadata": {
        "id": "fPEL30NqN_4g",
        "colab_type": "code",
        "colab": {}
      },
      "source": [
        ""
      ],
      "execution_count": null,
      "outputs": []
    },
    {
      "cell_type": "markdown",
      "metadata": {
        "id": "-HUGzFrhOKFx",
        "colab_type": "text"
      },
      "source": [
        "# Resources\n",
        "https://github.com/topics/handwriting-synthesis"
      ]
    }
  ]
}