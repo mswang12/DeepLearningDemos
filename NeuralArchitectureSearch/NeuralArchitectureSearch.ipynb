{
  "nbformat": 4,
  "nbformat_minor": 0,
  "metadata": {
    "colab": {
      "name": "NeuralArchitectureSearch",
      "provenance": [],
      "authorship_tag": "ABX9TyPK/FwdIRlrChQQSRMfRczW",
      "include_colab_link": true
    },
    "kernelspec": {
      "name": "python3",
      "display_name": "Python 3"
    }
  },
  "cells": [
    {
      "cell_type": "markdown",
      "metadata": {
        "id": "view-in-github",
        "colab_type": "text"
      },
      "source": [
        "<a href=\"https://colab.research.google.com/github/wileyw/DeepLearningDemos/blob/master/NeuralArchitectureSearch/NeuralArchitectureSearch.ipynb\" target=\"_parent\"><img src=\"https://colab.research.google.com/assets/colab-badge.svg\" alt=\"Open In Colab\"/></a>"
      ]
    },
    {
      "cell_type": "markdown",
      "metadata": {
        "id": "8k2XRoS1zFOk",
        "colab_type": "text"
      },
      "source": [
        "# Neural Architecture Search\n",
        "\n",
        "## EfficientNet\n",
        "\n",
        "## Goals\n",
        "1. Understand EfficientNet\n",
        "2. Understand why EfficientNet is better than Mobilenet V3, could be a blog post\n",
        "3. PyTorch EfficientDet\n",
        "4. Run EfficientNet interence"
      ]
    },
    {
      "cell_type": "code",
      "metadata": {
        "id": "g_0rOBICy6zP",
        "colab_type": "code",
        "colab": {}
      },
      "source": [
        "import torch"
      ],
      "execution_count": 0,
      "outputs": []
    },
    {
      "cell_type": "markdown",
      "metadata": {
        "id": "7WzcGARdzZjW",
        "colab_type": "text"
      },
      "source": [
        "# Resources\n",
        "\n",
        "*   [EfficientDet Paper](https://arxiv.org/pdf/1911.09070.pdf)\n",
        "* [Learning OpenCV EfficientNet](https://www.learnopencv.com/efficientnet-theory-code/)\n",
        "* [Tensorflow EfficientNet Implementation](https://github.com/tensorflow/tpu/blob/master/models/official/efficientnet/efficientnet_model.py)\n",
        "\n"
      ]
    }
  ]
}