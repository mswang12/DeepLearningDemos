{
  "nbformat": 4,
  "nbformat_minor": 0,
  "metadata": {
    "colab": {
      "name": "NeuralArchitectureSearch",
      "provenance": [],
      "authorship_tag": "ABX9TyNjcDtIfmbGC/qiaggMcOzO",
      "include_colab_link": true
    },
    "kernelspec": {
      "name": "python3",
      "display_name": "Python 3"
    }
  },
  "cells": [
    {
      "cell_type": "markdown",
      "metadata": {
        "id": "view-in-github",
        "colab_type": "text"
      },
      "source": [
        "<a href=\"https://colab.research.google.com/github/wileyw/DeepLearningDemos/blob/master/NeuralArchitectureSearch/NeuralArchitectureSearch.ipynb\" target=\"_parent\"><img src=\"https://colab.research.google.com/assets/colab-badge.svg\" alt=\"Open In Colab\"/></a>"
      ]
    },
    {
      "cell_type": "markdown",
      "metadata": {
        "id": "8k2XRoS1zFOk",
        "colab_type": "text"
      },
      "source": [
        "# Neural Architecture Search\n",
        "\n",
        "## EfficientNet\n",
        "\n",
        "## Goals\n",
        "1. Understand EfficientNet\n",
        "2. Understand why EfficientNet is better than Mobilenet V3, could be a blog post\n",
        "3. PyTorch EfficientDet\n",
        "4. Run EfficientNet interence\n",
        "5. Does EfficientNet produce a different network depending on the dataset?\n",
        "6. How does MNas work?"
      ]
    },
    {
      "cell_type": "markdown",
      "metadata": {
        "id": "ZCTfU5hmxFiW",
        "colab_type": "text"
      },
      "source": [
        "# Talking Points\n",
        "## 1. What are Inverted Residual Blocks?\n",
        "- 1x1 Convolution Expands the Filter Dimensions --> 3x3 Depthwise Convolution --> 1x1 Separable Convolution Reduces the number of Filter Dimensions\n",
        "- NOTE: The Blocks used for Skip Connections do not have non-linearities (e.g. activation functions)\n",
        "\n",
        "# How to build EfficientNet\n",
        "## Step 1.\n",
        "Find the baseline EfficientNet network using Neural Architecture Search\n",
        "\n",
        "## Step 2.\n",
        "Scale up the baseline network using grid search"
      ]
    },
    {
      "cell_type": "markdown",
      "metadata": {
        "id": "PMA8zOk-5kPD",
        "colab_type": "text"
      },
      "source": [
        "# Neural Architecture Search\n",
        "## Tunable Parameters\n",
        "- Depth, Width (Channels), Resolutions"
      ]
    },
    {
      "cell_type": "code",
      "metadata": {
        "id": "ewrzyHGT3i2x",
        "colab_type": "code",
        "colab": {}
      },
      "source": [
        "!python3 -m pip install efficientnet_pytorch\n",
        "!python3 -m pip install torchsummary"
      ],
      "execution_count": 0,
      "outputs": []
    },
    {
      "cell_type": "code",
      "metadata": {
        "id": "g_0rOBICy6zP",
        "colab_type": "code",
        "colab": {}
      },
      "source": [
        "import torch\n",
        "import torchsummary\n",
        "from efficientnet_pytorch import EfficientNet\n",
        "\n",
        "model = EfficientNet.from_name('efficientnet-b0')\n",
        "\n",
        "print(model)\n",
        "torchsummary.summary(model, input_size=(3, 224, 224))"
      ],
      "execution_count": 0,
      "outputs": []
    },
    {
      "cell_type": "markdown",
      "metadata": {
        "id": "7WzcGARdzZjW",
        "colab_type": "text"
      },
      "source": [
        "# Resources\n",
        "\n",
        "* [EfficientNet Paper](https://arxiv.org/pdf/1905.11946.pdf)\n",
        "* [EfficientDet Paper](https://arxiv.org/pdf/1911.09070.pdf)\n",
        "* [Learning OpenCV EfficientNet](https://www.learnopencv.com/efficientnet-theory-code/)\n",
        "* [Tensorflow EfficientNet Implementation](https://github.com/tensorflow/tpu/blob/master/models/official/efficientnet/efficientnet_model.py)\n",
        "* [PyTorch Implementation](https://github.com/lukemelas/EfficientNet-PyTorch)\n"
      ]
    }
  ]
}