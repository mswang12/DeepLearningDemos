{
  "nbformat": 4,
  "nbformat_minor": 0,
  "metadata": {
    "colab": {
      "name": "NeuralArchitectureSearch",
      "provenance": [],
      "authorship_tag": "ABX9TyP1Xhoo+Gdh4xH/x0QaPkqg",
      "include_colab_link": true
    },
    "kernelspec": {
      "name": "python3",
      "display_name": "Python 3"
    }
  },
  "cells": [
    {
      "cell_type": "markdown",
      "metadata": {
        "id": "view-in-github",
        "colab_type": "text"
      },
      "source": [
        "<a href=\"https://colab.research.google.com/github/wileyw/DeepLearningDemos/blob/master/NeuralArchitectureSearch/NeuralArchitectureSearch.ipynb\" target=\"_parent\"><img src=\"https://colab.research.google.com/assets/colab-badge.svg\" alt=\"Open In Colab\"/></a>"
      ]
    },
    {
      "cell_type": "markdown",
      "metadata": {
        "id": "8k2XRoS1zFOk",
        "colab_type": "text"
      },
      "source": [
        "# Neural Architecture Search\n",
        "\n",
        "## EfficientNet\n",
        "\n",
        "### What's the difference between MBConv1 versus MBConv6?\n",
        "- MBConv1 expands the number of channels by a factor of 1.\n",
        "- MBConv6 expands the number of channels by a factor of 6.\n",
        "\n",
        "[MBConv6](https://machinethink.net/blog/mobile-architectures/)\n",
        "\n",
        "## Do you need to do your own Neural Architecture Search?\n",
        "- No, you can use transfer learning to apply an existing neural net architecture and retrain the network on your own dataset\n",
        "- [AutoML and Neural Architecture Search](https://towardsdatascience.com/everything-you-need-to-know-about-automl-and-neural-architecture-search-8db1863682bf)\n",
        "\n",
        "\n",
        "## Goals\n",
        "1. Understand EfficientNet\n",
        "2. Understand why EfficientNet is better than Mobilenet V3, could be a blog post\n",
        "3. PyTorch EfficientDet\n",
        "4. Run EfficientNet interence\n",
        "5. Does EfficientNet produce a different network depending on the dataset?\n",
        "6. How does MNas work?"
      ]
    },
    {
      "cell_type": "markdown",
      "metadata": {
        "id": "ZCTfU5hmxFiW",
        "colab_type": "text"
      },
      "source": [
        "# Talking Points\n",
        "## 1. What are Inverted Residual Blocks?\n",
        "- 1x1 Convolution Expands the Filter Dimensions --> 3x3 Depthwise Convolution --> 1x1 Separable Convolution Reduces the number of Filter Dimensions\n",
        "- NOTE: The Blocks used for Skip Connections do not have non-linearities (e.g. activation functions)\n",
        "\n",
        "# How to build EfficientNet\n",
        "## Step 1.\n",
        "Find the baseline EfficientNet network using Neural Architecture Search\n",
        "\n",
        "## Step 2.\n",
        "Scale up the baseline network using grid search"
      ]
    },
    {
      "cell_type": "markdown",
      "metadata": {
        "id": "PMA8zOk-5kPD",
        "colab_type": "text"
      },
      "source": [
        "# Neural Architecture Search\n",
        "## Tunable Parameters\n",
        "- Depth, Width (Channels), Resolutions"
      ]
    },
    {
      "cell_type": "code",
      "metadata": {
        "id": "ewrzyHGT3i2x",
        "colab_type": "code",
        "colab": {}
      },
      "source": [
        "!python3 -m pip install efficientnet_pytorch\n",
        "!python3 -m pip install torchsummary"
      ],
      "execution_count": 0,
      "outputs": []
    },
    {
      "cell_type": "code",
      "metadata": {
        "id": "9FIc6zqIEQzY",
        "colab_type": "code",
        "colab": {}
      },
      "source": [
        "!git clone https://github.com/lukemelas/EfficientNet-PyTorch"
      ],
      "execution_count": 0,
      "outputs": []
    },
    {
      "cell_type": "code",
      "metadata": {
        "id": "BicJzIuGESzR",
        "colab_type": "code",
        "colab": {}
      },
      "source": [
        "!ls EfficientNet-PyTorch/examples\n",
        "!ls EfficientNet-PyTorch/examples/simple/\n",
        "!cp EfficientNet-PyTorch/examples/simple/img.jpg .\n",
        "!cp EfficientNet-PyTorch/examples/simple/labels_map.txt ."
      ],
      "execution_count": 0,
      "outputs": []
    },
    {
      "cell_type": "code",
      "metadata": {
        "id": "g_0rOBICy6zP",
        "colab_type": "code",
        "colab": {}
      },
      "source": [
        "import torch\n",
        "import torchsummary\n",
        "from efficientnet_pytorch import EfficientNet\n",
        "\n",
        "model = EfficientNet.from_name('efficientnet-b0')\n",
        "\n",
        "print(model)\n",
        "torchsummary.summary(model, input_size=(3, 224, 224))"
      ],
      "execution_count": 0,
      "outputs": []
    },
    {
      "cell_type": "code",
      "metadata": {
        "id": "pbSWEHqzEFrn",
        "colab_type": "code",
        "colab": {}
      },
      "source": [
        "import json\n",
        "from PIL import Image\n",
        "import torch\n",
        "from torchvision import transforms\n",
        "\n",
        "from efficientnet_pytorch import EfficientNet\n",
        "model = EfficientNet.from_pretrained('efficientnet-b0')\n",
        "\n",
        "# Preprocess image\n",
        "tfms = transforms.Compose([transforms.Resize(224), transforms.ToTensor(),\n",
        "    transforms.Normalize([0.485, 0.456, 0.406], [0.229, 0.224, 0.225]),])\n",
        "img = tfms(Image.open('img.jpg')).unsqueeze(0)\n",
        "print(img.shape) # torch.Size([1, 3, 224, 224])\n",
        "\n",
        "# Load ImageNet class names\n",
        "labels_map = json.load(open('labels_map.txt'))\n",
        "labels_map = [labels_map[str(i)] for i in range(1000)]\n",
        "\n",
        "# Classify\n",
        "model.eval()\n",
        "with torch.no_grad():\n",
        "    outputs = model(img)\n",
        "\n",
        "# Print predictions\n",
        "print('-----')\n",
        "for idx in torch.topk(outputs, k=5).indices.squeeze(0).tolist():\n",
        "    prob = torch.softmax(outputs, dim=1)[0, idx].item()\n",
        "    print('{label:<75} ({p:.2f}%)'.format(label=labels_map[idx], p=prob*100))"
      ],
      "execution_count": 0,
      "outputs": []
    },
    {
      "cell_type": "markdown",
      "metadata": {
        "id": "7WzcGARdzZjW",
        "colab_type": "text"
      },
      "source": [
        "# Resources\n",
        "\n",
        "* [EfficientNet Paper](https://arxiv.org/pdf/1905.11946.pdf)\n",
        "* [EfficientDet Paper](https://arxiv.org/pdf/1911.09070.pdf)\n",
        "* [Learning OpenCV EfficientNet](https://www.learnopencv.com/efficientnet-theory-code/)\n",
        "* [Tensorflow EfficientNet Implementation](https://github.com/tensorflow/tpu/blob/master/models/official/efficientnet/efficientnet_model.py)\n",
        "* [PyTorch Implementation](https://github.com/lukemelas/EfficientNet-PyTorch)\n",
        "* [MnasFPN : Learning Latency-aware Pyramid Architecture\n",
        "for Object Detection on Mobile Devices](https://arxiv.org/pdf/1912.01106.pdf)\n",
        "* [Yolo V4](https://arxiv.org/pdf/2004.10934.pdf)\n",
        "* [EffResNetComparison](https://colab.research.google.com/github/rwightman/pytorch-image-models/blob/master/notebooks/EffResNetComparison.ipynb#scrollTo=SKA-MF-yShDW)\n"
      ]
    }
  ]
}