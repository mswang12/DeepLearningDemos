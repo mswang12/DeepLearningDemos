{
  "nbformat": 4,
  "nbformat_minor": 0,
  "metadata": {
    "colab": {
      "name": "Autokeras.ipynb",
      "provenance": [],
      "authorship_tag": "ABX9TyMXe9x8u7a1Wy8NJkVoxkF6",
      "include_colab_link": true
    },
    "kernelspec": {
      "name": "python3",
      "display_name": "Python 3"
    },
    "accelerator": "GPU"
  },
  "cells": [
    {
      "cell_type": "markdown",
      "metadata": {
        "id": "view-in-github",
        "colab_type": "text"
      },
      "source": [
        "<a href=\"https://colab.research.google.com/github/wileyw/DeepLearningDemos/blob/master/NeuralArchitectureSearch/Autokeras.ipynb\" target=\"_parent\"><img src=\"https://colab.research.google.com/assets/colab-badge.svg\" alt=\"Open In Colab\"/></a>"
      ]
    },
    {
      "cell_type": "markdown",
      "metadata": {
        "id": "tKCAuX00SO_k",
        "colab_type": "text"
      },
      "source": [
        "# AutoKeras\n",
        "\n",
        "[Paper](https://arxiv.org/pdf/1806.10282.pdf)"
      ]
    },
    {
      "cell_type": "markdown",
      "metadata": {
        "id": "0fQ17-24Vjbb",
        "colab_type": "text"
      },
      "source": [
        "In this example, we get an accuracy of 91.13% with only 3 trials and 3 epochs. The above minimal code AutoKeras example shows how simple and easy AutoKeras is to use.\n"
      ]
    },
    {
      "cell_type": "markdown",
      "metadata": {
        "id": "JeGbfKc8SAjv",
        "colab_type": "text"
      },
      "source": [
        "# Questions\n",
        "## 1. What is Edit-Distance in a Neural Network?\n",
        "Edit-distance is the number of operations needed to morph one architecture into another architecture."
      ]
    },
    {
      "cell_type": "code",
      "metadata": {
        "id": "b4q_-v76Lht7",
        "colab_type": "code",
        "colab": {}
      },
      "source": [
        "!python3 -m pip install autokeras\n",
        "!pip install tensorflow-gpu==2.1.0"
      ],
      "execution_count": 0,
      "outputs": []
    },
    {
      "cell_type": "code",
      "metadata": {
        "id": "s9icubivMy5Y",
        "colab_type": "code",
        "colab": {}
      },
      "source": [
        "%tensorflow_version 2.x"
      ],
      "execution_count": 0,
      "outputs": []
    },
    {
      "cell_type": "code",
      "metadata": {
        "id": "iDaqLMGGMj_y",
        "colab_type": "code",
        "colab": {}
      },
      "source": [
        "import tensorflow as tf\n",
        "print(tf.__version__)"
      ],
      "execution_count": 0,
      "outputs": []
    },
    {
      "cell_type": "code",
      "metadata": {
        "id": "K1bwRM-ELrD1",
        "colab_type": "code",
        "colab": {}
      },
      "source": [
        "#from tensorflow.keras.datasets import mnist\n",
        "from tensorflow.keras.datasets import fashion_mnist as mnist\n",
        "(x_train, y_train), (x_test, y_test) = mnist.load_data()\n",
        "print(x_train.shape) # (60000, 28, 28)\n",
        "print(y_train.shape) # (60000,)\n",
        "print(y_train[:3]) # array([7, 2, 1], dtype=uint8)"
      ],
      "execution_count": 0,
      "outputs": []
    },
    {
      "cell_type": "code",
      "metadata": {
        "id": "qheYaZkjL8kv",
        "colab_type": "code",
        "colab": {}
      },
      "source": [
        "import autokeras as ak\n",
        "\n",
        "# Initialize the image classifier.\n",
        "clf = ak.ImageClassifier(max_trials=3) # It tries 3 different models.\n",
        "# Feed the image classifier with training data.\n",
        "clf.fit(x_train, y_train,epochs=3)"
      ],
      "execution_count": 0,
      "outputs": []
    },
    {
      "cell_type": "code",
      "metadata": {
        "id": "h919aZ_7L-yX",
        "colab_type": "code",
        "colab": {}
      },
      "source": [
        "# Predict with the best model.\n",
        "predicted_y = clf.predict(x_test)\n",
        "print(predicted_y)"
      ],
      "execution_count": 0,
      "outputs": []
    },
    {
      "cell_type": "code",
      "metadata": {
        "id": "djrTIS6kMAk-",
        "colab_type": "code",
        "colab": {}
      },
      "source": [
        "# Evaluate the best model with testing data.\n",
        "print(clf.evaluate(x_test, y_test))\n",
        "model = clf.export_model()\n",
        "print(model.summary())"
      ],
      "execution_count": 0,
      "outputs": []
    },
    {
      "cell_type": "markdown",
      "metadata": {
        "id": "R7fcbu9WT_7Z",
        "colab_type": "text"
      },
      "source": [
        "# Resources\n",
        "- [Autokeras paper](https://arxiv.org/pdf/1806.10282.pdf)\n",
        "- [Autokeras website](https://autokeras.com/)\n",
        "- [Custom Autokeras Model](https://autokeras.com/tutorial/customized/)"
      ]
    }
  ]
}