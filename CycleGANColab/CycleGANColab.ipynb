{
  "nbformat": 4,
  "nbformat_minor": 0,
  "metadata": {
    "colab": {
      "name": "CycleGAN.ipynb",
      "provenance": [],
      "include_colab_link": true
    },
    "kernelspec": {
      "name": "python3",
      "display_name": "Python 3"
    }
  },
  "cells": [
    {
      "cell_type": "markdown",
      "metadata": {
        "id": "view-in-github",
        "colab_type": "text"
      },
      "source": [
        "<a href=\"https://colab.research.google.com/github/wileyw/DeepLearningDemos/blob/master/CycleGANColab/CycleGANColab.ipynb\" target=\"_parent\"><img src=\"https://colab.research.google.com/assets/colab-badge.svg\" alt=\"Open In Colab\"/></a>"
      ]
    },
    {
      "cell_type": "markdown",
      "metadata": {
        "id": "fTGhQfaYH_QV",
        "colab_type": "text"
      },
      "source": [
        "# CycleGAN\n",
        "\n",
        "This notebook makes the CycleGAN homework assignment runnable on Google Colab (free GPU), so you don't need a physical GPU to run this assignment.\n",
        "\n",
        "Code available on https://github.com/wileyw/DeepLearningDemos.git\n",
        "\n",
        "Homework Assignment: https://www.cs.toronto.edu/~rgrosse/courses/csc321_2018/assignments/a4-handout.pdf"
      ]
    },
    {
      "cell_type": "code",
      "metadata": {
        "id": "g-vpRE5yJebK",
        "colab_type": "code",
        "colab": {}
      },
      "source": [
        "!git clone https://github.com/wileyw/DeepLearningDemos.git"
      ],
      "execution_count": 0,
      "outputs": []
    },
    {
      "cell_type": "code",
      "metadata": {
        "id": "haTvhcMrH8ke",
        "colab_type": "code",
        "colab": {}
      },
      "source": [
        "!wget http://www.cs.toronto.edu/~rgrosse/courses/csc321_2018/assignments/a4-code.zip \n",
        "!unzip -q a4-code.zip"
      ],
      "execution_count": 0,
      "outputs": []
    },
    {
      "cell_type": "code",
      "metadata": {
        "id": "ks4AwPQYN-bo",
        "colab_type": "code",
        "colab": {}
      },
      "source": [
        "!ls\n",
        "!mv a4-code-v2-updated/emojis .\n",
        "!mv a4-code-v2-updated/checker_files ."
      ],
      "execution_count": 0,
      "outputs": []
    },
    {
      "cell_type": "code",
      "metadata": {
        "id": "5NyF3QrVKNqr",
        "colab_type": "code",
        "colab": {}
      },
      "source": [
        "!python3 DeepLearningDemos/CycleGANSolution/a4-code-v2-updated/model_checker.py"
      ],
      "execution_count": 0,
      "outputs": []
    },
    {
      "cell_type": "code",
      "metadata": {
        "id": "9EHeytGb46j0",
        "colab_type": "code",
        "colab": {}
      },
      "source": [
        "import sys\n",
        "sys.path.append('DeepLearningDemos/CycleGANSolution/a4-code-v2-updated')\n",
        "import cycle_gan\n",
        "from cycle_gan import *\n",
        "\n",
        "sys.argv[:] = ['cycle_gan.py']\n",
        "parser = create_parser()\n",
        "opts = parser.parse_args()\n",
        "\n",
        "opts.use_cycle_consistency_loss = True\n",
        "\n",
        "batch_size = opts.batch_size\n",
        "cycle_gan.batch_size = batch_size\n",
        "\n",
        "print(opts)\n",
        "main(opts)"
      ],
      "execution_count": 0,
      "outputs": []
    },
    {
      "cell_type": "code",
      "metadata": {
        "id": "ac_qDfPs5S_g",
        "colab_type": "code",
        "colab": {}
      },
      "source": [
        "from IPython.display import Image\n",
        "import matplotlib.pyplot as plt\n",
        "import glob\n",
        "images = sorted(glob.glob('./samples_cyclegan/*X-Y.png'))\n",
        "Image(images[-1])"
      ],
      "execution_count": 0,
      "outputs": []
    },
    {
      "cell_type": "code",
      "metadata": {
        "id": "uVnVGQo66bYF",
        "colab_type": "code",
        "colab": {}
      },
      "source": [
        "from IPython.display import Image\n",
        "import matplotlib.pyplot as plt\n",
        "import glob\n",
        "images = sorted(glob.glob('./samples_cyclegan/*Y-X.png'))\n",
        "Image(images[-1])"
      ],
      "execution_count": 0,
      "outputs": []
    },
    {
      "cell_type": "code",
      "metadata": {
        "id": "ZxN74FK-wdYV",
        "colab_type": "code",
        "colab": {}
      },
      "source": [
        "import sys\n",
        "sys.path.append('DeepLearningDemos/CycleGANSolution/a4-code-v2-updated')\n",
        "import vanilla_gan\n",
        "from vanilla_gan import *\n",
        "\n",
        "# Run Vanilla GAN\n",
        "sys.argv[:] = ['vanilla_gan.py']\n",
        "parser = create_parser()\n",
        "opts = parser.parse_args()\n",
        "\n",
        "batch_size = opts.batch_size\n",
        "vanilla_gan.batch_size = batch_size\n",
        "\n",
        "print(opts)\n",
        "main(opts)"
      ],
      "execution_count": 0,
      "outputs": []
    },
    {
      "cell_type": "code",
      "metadata": {
        "id": "NTCwanSr1S_D",
        "colab_type": "code",
        "colab": {}
      },
      "source": [
        "# View images\n",
        "from IPython.display import Image\n",
        "import matplotlib.pyplot as plt\n",
        "import glob\n",
        "images = sorted(glob.glob('./samples_vanilla/*.png'))\n",
        "Image(images[-1])\n"
      ],
      "execution_count": 0,
      "outputs": []
    }
  ]
}