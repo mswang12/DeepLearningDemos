{
  "nbformat": 4,
  "nbformat_minor": 0,
  "metadata": {
    "colab": {
      "name": "Transformers.ipynb",
      "provenance": [],
      "authorship_tag": "ABX9TyMq7zDv55D6nmR0jiBGxxXn",
      "include_colab_link": true
    },
    "kernelspec": {
      "name": "python3",
      "display_name": "Python 3"
    }
  },
  "cells": [
    {
      "cell_type": "markdown",
      "metadata": {
        "id": "view-in-github",
        "colab_type": "text"
      },
      "source": [
        "<a href=\"https://colab.research.google.com/github/wileyw/DeepLearningDemos/blob/master/Transformers/Transformers.ipynb\" target=\"_parent\"><img src=\"https://colab.research.google.com/assets/colab-badge.svg\" alt=\"Open In Colab\"/></a>"
      ]
    },
    {
      "cell_type": "markdown",
      "metadata": {
        "id": "3oRmLL1owcS6",
        "colab_type": "text"
      },
      "source": [
        "# Transformers\n",
        "\n",
        "Initial commit of colab notebook for Transformers."
      ]
    },
    {
      "cell_type": "code",
      "metadata": {
        "id": "LllIDkqLwYuS",
        "colab_type": "code",
        "colab": {}
      },
      "source": [
        "import torch\n",
        "import tensorflow as tf"
      ],
      "execution_count": 2,
      "outputs": []
    },
    {
      "cell_type": "markdown",
      "metadata": {
        "id": "wnZMPSeHyG4J",
        "colab_type": "text"
      },
      "source": [
        "# Resources\n",
        "- [Gelu Activation Function](https://mlfromscratch.com/activation-functions-explained/)"
      ]
    }
  ]
}