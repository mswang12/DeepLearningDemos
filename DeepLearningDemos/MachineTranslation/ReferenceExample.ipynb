{
  "nbformat": 4,
  "nbformat_minor": 0,
  "metadata": {
    "colab": {
      "name": "ReferenceExample.ipynb",
      "provenance": [],
      "authorship_tag": "ABX9TyOnHQnh5DGpY73gSJiKUwB7",
      "include_colab_link": true
    },
    "kernelspec": {
      "name": "python3",
      "display_name": "Python 3"
    },
    "accelerator": "GPU"
  },
  "cells": [
    {
      "cell_type": "markdown",
      "metadata": {
        "id": "view-in-github",
        "colab_type": "text"
      },
      "source": [
        "<a href=\"https://colab.research.google.com/github/wileyw/DeepLearningDemos/blob/master/DeepLearningDemos/MachineTranslation/ReferenceExample.ipynb\" target=\"_parent\"><img src=\"https://colab.research.google.com/assets/colab-badge.svg\" alt=\"Open In Colab\"/></a>"
      ]
    },
    {
      "cell_type": "code",
      "metadata": {
        "id": "CsFfALRqWl-r"
      },
      "source": [
        "# https://github.com/andrewpeng02/transformer-translation\n",
        "!git clone https://github.com/andrewpeng02/transformer-translation.git"
      ],
      "execution_count": null,
      "outputs": []
    },
    {
      "cell_type": "code",
      "metadata": {
        "id": "15vsyh8nXIyo"
      },
      "source": [
        "!python -m pip install --upgrade pip\n",
        "!python3 -m pip install click==7.0\n",
        "!python3 -m pip install dill==0.3.1.1 --use-feature=2020-resolver\n",
        "!python3 -m pip install einops==0.1.0\n",
        "!python3 -m pip install en-core-web-sm==2.1.0\n",
        "!python3 -m pip install fr-core-news-sm==2.1.0\n",
        "!python3 -m pip install joblib==0.13.2\n",
        "!python3 -m pip install torchtext==0.4.0"
      ],
      "execution_count": null,
      "outputs": []
    },
    {
      "cell_type": "code",
      "metadata": {
        "id": "R4pZuNrQX_Gq"
      },
      "source": [
        "!ls transformer-translation/data\n",
        "%cd transformer-translation/data\n",
        "!wget http://www.manythings.org/anki/fra-eng.zip\n",
        "!unzip fra-eng.zip\n",
        "%cd ../../\n",
        "!ls\n"
      ],
      "execution_count": null,
      "outputs": []
    },
    {
      "cell_type": "code",
      "metadata": {
        "id": "0kL2dvTwZxW1"
      },
      "source": [
        "cd transformer-translation"
      ],
      "execution_count": null,
      "outputs": []
    },
    {
      "cell_type": "code",
      "metadata": {
        "id": "rAyZTlUKYuun"
      },
      "source": [
        "!python3 process-tatoeba-data.py\n",
        "#!python3 preprocess-data.py\n",
        "#!python3 train.py"
      ],
      "execution_count": null,
      "outputs": []
    },
    {
      "cell_type": "code",
      "metadata": {
        "id": "DH3jMH4pZM1d"
      },
      "source": [
        "!ls\n",
        "!ls data/processed\n",
        "!ls -l data/processed/fr"
      ],
      "execution_count": null,
      "outputs": []
    }
  ]
}